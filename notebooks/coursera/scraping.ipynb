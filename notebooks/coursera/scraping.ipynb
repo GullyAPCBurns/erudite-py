{
 "cells": [
  {
   "cell_type": "code",
   "execution_count": 1,
   "metadata": {
    "collapsed": false,
    "scrolled": true
   },
   "outputs": [
    {
     "name": "stdout",
     "output_type": "stream",
     "text": [
      "Populating the interactive namespace from numpy and matplotlib\n"
     ]
    }
   ],
   "source": [
    "from __future__ import print_function, division\n",
    "%pylab notebook\n",
    "import sys\n",
    "import bs4 as bs\n",
    "import time\n",
    "import pandas as pd\n",
    "import dryscrape\n",
    "import time\n",
    "import json\n",
    "from tqdm import tqdm\n",
    "\n",
    "if 'linux' in sys.platform:\n",
    "    # start xvfb in case no X is running. Make sure xvfb \n",
    "    # is installed, otherwise this won't work!\n",
    "    dryscrape.start_xvfb()"
   ]
  },
  {
   "cell_type": "code",
   "execution_count": 2,
   "metadata": {
    "collapsed": false
   },
   "outputs": [],
   "source": [
    "def get_page_session(url, wait=2):\n",
    "    sess = dryscrape.Session()\n",
    "    sess.set_viewport_size(width=1024, height=20000)\n",
    "    sess.visit(url)\n",
    "    time.sleep(30)\n",
    "    \n",
    "    name = url.rsplit('/', 1)[-1]    \n",
    "    \n",
    "    sess.render('data/coursera/specializations/' + name + '.png')\n",
    "    \n",
    "    return sess\n",
    "\n",
    "def click_buttons(sess, xpath):\n",
    "    for button in sess.xpath(xpath):\n",
    "        #print('click button')\n",
    "        try:\n",
    "            button.click()\n",
    "        except:\n",
    "            #print('\\tdone')\n",
    "            break    \n",
    "\n",
    "def get_specialization_df(url):\n",
    "    sess = get_page_session(url)\n",
    "    \n",
    "    #expand all syllabus details\n",
    "    click_buttons(sess, \"//div[contains(@class, 'course-show-syllabus-text')]\")\n",
    "    \n",
    "    time.sleep(5)\n",
    "    soup = bs.BeautifulSoup(sess.body(), \"lxml\")\n",
    "    courses = soup.find_all('div', attrs={'class': 'rc-SingleCourse'})\n",
    "    data = list()\n",
    "    titles = set()\n",
    "    for idx, c in enumerate(courses):\n",
    "        title = c.find('div', attrs={'class': 'course-title'}).getText(separator=u' ')\n",
    "        if title in titles:\n",
    "            continue\n",
    "        else:\n",
    "            titles.add(title)\n",
    "        print(title)\n",
    "        about = c.find('div', attrs={'class': 'course-about'}).getText(separator=u' ')\n",
    "        try:\n",
    "            syllabus = c.find('div', attrs={'class': 'rc-Syllabus'}).getText(separator=u' ')\n",
    "        except:\n",
    "            syllabus = ''\n",
    "        data.append((idx, title, about, syllabus))\n",
    "    sess.reset()\n",
    "    return pd.DataFrame(columns=['course_num', 'title', 'about', 'syllabus'], data=data)"
   ]
  },
  {
   "cell_type": "code",
   "execution_count": 3,
   "metadata": {
    "collapsed": true
   },
   "outputs": [],
   "source": [
    "def get_specialization_links(url):\n",
    "    sess = get_page_session(url)\n",
    "    spec_pages = list()\n",
    "    current_idx = 0\n",
    "    while True:\n",
    "        for exp_idx, expand_button in enumerate(sess.xpath(\"//button[contains(@class, 'primary see-all-button')]\")):\n",
    "            if current_idx == exp_idx:\n",
    "                #print('click')\n",
    "                expand_button.click()\n",
    "                time.sleep(2)\n",
    "                spec_pages.append(sess.body())\n",
    "                current_idx += 1\n",
    "                sess = get_page_session(url)\n",
    "                break\n",
    "        else:\n",
    "            break\n",
    "            \n",
    "    spec_urls = set()\n",
    "    for sp in spec_pages:\n",
    "        sp = bs.BeautifulSoup(sp, \"lxml\")\n",
    "        js_obj = json.loads(sp.find('script', attrs={'type': 'application/ld+json'}).getText())\n",
    "        for item in  js_obj['itemListElement']:\n",
    "            url = item['url']\n",
    "            if url.startswith('https://www.coursera.org/specializations/'):\n",
    "                spec_urls.add(url)\n",
    "    return spec_urls"
   ]
  },
  {
   "cell_type": "code",
   "execution_count": 4,
   "metadata": {
    "collapsed": false
   },
   "outputs": [
    {
     "name": "stdout",
     "output_type": "stream",
     "text": [
      "LINKS\n",
      "https://www.coursera.org/specializations/statistics\n",
      "https://www.coursera.org/specializations/excel-mysql\n",
      "https://www.coursera.org/specializations/robotics\n",
      "https://www.coursera.org/specializations/social-science\n",
      "https://www.coursera.org/specializations/bigdata\n",
      "https://www.coursera.org/specializations/business-analytics\n",
      "https://www.coursera.org/specializations/machine-learning\n",
      "https://www.coursera.org/specializations/jhu-data-science\n"
     ]
    }
   ],
   "source": [
    "spec_links = get_specialization_links('https://www.coursera.org/browse/data-science')\n",
    "\n",
    "print(\"LINKS\\n\" + \"\\n\".join(spec_links))"
   ]
  },
  {
   "cell_type": "code",
   "execution_count": null,
   "metadata": {
    "collapsed": false
   },
   "outputs": [
    {
     "name": "stderr",
     "output_type": "stream",
     "text": [
      "\r",
      "  0%|          | 0/8 [00:00<?, ?it/s]"
     ]
    },
    {
     "name": "stdout",
     "output_type": "stream",
     "text": [
      "process statistics\n",
      "--------------------------------------------------------------------------------\n"
     ]
    },
    {
     "name": "stderr",
     "output_type": "stream",
     "text": [
      "\r",
      " 12%|█▎        | 1/8 [00:46<05:25, 46.45s/it]"
     ]
    },
    {
     "name": "stdout",
     "output_type": "stream",
     "text": [
      "Empty DataFrame\n",
      "Columns: [course_num, title, about, syllabus]\n",
      "Index: []\n",
      "================================================================================\n",
      "process excel-mysql\n",
      "--------------------------------------------------------------------------------\n"
     ]
    },
    {
     "name": "stderr",
     "output_type": "stream",
     "text": [
      "\r",
      " 25%|██▌       | 2/8 [01:24<04:22, 43.81s/it]"
     ]
    },
    {
     "name": "stdout",
     "output_type": "stream",
     "text": [
      "Empty DataFrame\n",
      "Columns: [course_num, title, about, syllabus]\n",
      "Index: []\n",
      "================================================================================\n",
      "process robotics\n",
      "--------------------------------------------------------------------------------\n"
     ]
    },
    {
     "name": "stderr",
     "output_type": "stream",
     "text": [
      "\r",
      " 38%|███▊      | 3/8 [02:08<03:40, 44.10s/it]"
     ]
    },
    {
     "name": "stdout",
     "output_type": "stream",
     "text": [
      "Robotics: Aerial Robotics\n",
      "Robotics: Computational Motion Planning\n",
      "Robotics: Mobility\n",
      "Robotics: Perception\n",
      "Robotics: Estimation and Learning\n",
      "Robotics: Capstone\n",
      "   course_num                                    title  \\\n",
      "0           0                Robotics: Aerial Robotics   \n",
      "1           1  Robotics: Computational Motion Planning   \n",
      "\n",
      "                                               about  \\\n",
      "0  How can we create agile micro aerial vehicles ...   \n",
      "1  Robotic systems typically include three compon...   \n",
      "\n",
      "                                            syllabus  \n",
      "0  WEEK 1 Introduction to Aerial Robotics Welcome...  \n",
      "1  WEEK 1 Introduction and Graph-based Plan Metho...  \n",
      "================================================================================\n",
      "process social-science\n",
      "--------------------------------------------------------------------------------\n"
     ]
    },
    {
     "name": "stderr",
     "output_type": "stream",
     "text": [
      "\r",
      " 50%|█████     | 4/8 [02:49<02:52, 43.02s/it]"
     ]
    },
    {
     "name": "stdout",
     "output_type": "stream",
     "text": [
      "Quantitative Methods\n",
      "Qualitative Research Methods\n",
      "Basic Statistics\n",
      "Inferential Statistics\n",
      "Methods and Statistics in Social Science - Final Research Project\n",
      "   course_num                         title  \\\n",
      "0           0          Quantitative Methods   \n",
      "1           1  Qualitative Research Methods   \n",
      "\n",
      "                                               about  \\\n",
      "0  Discover the principles of solid scientific me...   \n",
      "1  In this course you will be introduced to the b...   \n",
      "\n",
      "                                            syllabus  \n",
      "0  WEEK 1 Before we get started... In this first ...  \n",
      "1  WEEK 1 Philosophy of Qualitative Research Welc...  \n",
      "================================================================================\n",
      "process bigdata\n",
      "--------------------------------------------------------------------------------\n"
     ]
    },
    {
     "name": "stderr",
     "output_type": "stream",
     "text": [
      "\r",
      " 62%|██████▎   | 5/8 [03:33<02:09, 43.29s/it]"
     ]
    },
    {
     "name": "stdout",
     "output_type": "stream",
     "text": [
      "Introduction to Big Data\n",
      "Big Data Modeling and Management Systems\n",
      "Big Data Integration and Processing\n",
      "Machine Learning With Big Data\n",
      "Graph Analytics for Big Data\n",
      "Big Data - Capstone Project\n",
      "   course_num                                     title  \\\n",
      "0           0                  Introduction to Big Data   \n",
      "1           1  Big Data Modeling and Management Systems   \n",
      "\n",
      "                                               about  \\\n",
      "0  Interested in increasing your knowledge of the...   \n",
      "1  Once you’ve identified a big data issue to ana...   \n",
      "\n",
      "                                            syllabus  \n",
      "0  WEEK 1 Welcome  Welcome to the Big Data Specia...  \n",
      "1  WEEK 1 Introduction to Big Data Modeling and M...  \n",
      "================================================================================\n",
      "process business-analytics\n",
      "--------------------------------------------------------------------------------\n"
     ]
    },
    {
     "name": "stderr",
     "output_type": "stream",
     "text": [
      "\r",
      " 75%|███████▌  | 6/8 [04:12<01:24, 42.09s/it]"
     ]
    },
    {
     "name": "stdout",
     "output_type": "stream",
     "text": [
      "Customer Analytics\n",
      "Operations Analytics\n",
      "People Analytics\n",
      "Accounting Analytics\n",
      "Business Analytics Capstone\n",
      "   course_num                 title  \\\n",
      "0           0    Customer Analytics   \n",
      "1           1  Operations Analytics   \n",
      "\n",
      "                                               about  \\\n",
      "0  Data about our browsing and buying patterns ar...   \n",
      "1  This course is designed to impact the way you ...   \n",
      "\n",
      "                                            syllabus  \n",
      "0  WEEK 1 Introduction to Customer Analytics What...  \n",
      "1  WEEK 1 Introduction, Descriptive and Predictiv...  \n",
      "================================================================================\n",
      "process machine-learning\n",
      "--------------------------------------------------------------------------------\n"
     ]
    }
   ],
   "source": [
    "courses = set()\n",
    "for l in tqdm(spec_links):\n",
    "    sys.stdout.flush()\n",
    "    name = l.rsplit('/', 1)[-1]    \n",
    "    print('process', name)\n",
    "    print('-' * 80)\n",
    "    df = get_specialization_df(l)\n",
    "    print(df.head(2))\n",
    "    df.to_pickle('data/coursera/specializations/' + name + '.df')\n",
    "    df.to_csv('data/coursera/specializations/' + name + '.csv', encoding='utf-8', index=False)\n",
    "    courses.update(set(df['title']))\n",
    "    print('=' * 80)"
   ]
  },
  {
   "cell_type": "code",
   "execution_count": null,
   "metadata": {
    "collapsed": false
   },
   "outputs": [],
   "source": [
    "print('num specializations:', len(spec_links))\n",
    "print('overall courses:', len(courses))"
   ]
  },
  {
   "cell_type": "code",
   "execution_count": null,
   "metadata": {
    "collapsed": true
   },
   "outputs": [],
   "source": []
  }
 ],
 "metadata": {
  "kernelspec": {
   "display_name": "Python 2",
   "language": "python",
   "name": "python2"
  },
  "language_info": {
   "codemirror_mode": {
    "name": "ipython",
    "version": 2
   },
   "file_extension": ".py",
   "mimetype": "text/x-python",
   "name": "python",
   "nbconvert_exporter": "python",
   "pygments_lexer": "ipython2",
   "version": "2.7.12"
  }
 },
 "nbformat": 4,
 "nbformat_minor": 0
}
